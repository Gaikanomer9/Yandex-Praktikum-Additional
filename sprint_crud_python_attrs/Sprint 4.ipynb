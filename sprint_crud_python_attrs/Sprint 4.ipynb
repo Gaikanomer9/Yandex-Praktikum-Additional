{
 "cells": [
  {
   "cell_type": "markdown",
   "metadata": {},
   "source": [
    "# Sprint 4 Round-Up\n",
    "Работа с Jupyter Notebook.<br>\n",
    "Для запуска и работы в notebook нужно установить зависимости: <br>\n",
    "* `pip install -r requirements.txt`\n",
    "* И запустить Jupyter Notebook `python -m manage shell_plus --notebook`\n",
    "\n"
   ]
  },
  {
   "cell_type": "code",
   "execution_count": 1,
   "metadata": {},
   "outputs": [],
   "source": [
    "# Imports\n",
    "import os\n",
    "from books.models import Book, Store, Publisher, StoreChain\n",
    "from django.db.models import Prefetch\n",
    "from books.utils import load_items\n",
    "from books.decorators import query_debugger\n",
    "import datetime\n",
    "import logging\n",
    "\n",
    "# Settings for Notebook\n",
    "os.environ[\"DJANGO_ALLOW_ASYNC_UNSAFE\"] = \"true\"\n",
    "\n",
    "# Reset DB and create fresh DB with some data for books amd publishers\n",
    "load_items()\n",
    "\n",
    "#Enabling logging queries for future tasks if needed\n",
    "\n",
    "log = logging.getLogger('django.db.backends')\n",
    "log.setLevel(logging.DEBUG)\n",
    "log.addHandler(logging.StreamHandler())"
   ]
  },
  {
   "cell_type": "markdown",
   "metadata": {},
   "source": [
    "## CRUD\n",
    "•\tCreate: Model.objects.create() — создание объекта в базе\n",
    "\n",
    "•\tRead: Model.objects.get(id=N) — чтение объекта по его ключу\n",
    "\n",
    "•\tUpdate: object.property= 'new value' и потом object.save() — изменение объекта\n",
    "\n",
    "•\tDelete: object.delete() — удаление объекта из базы"
   ]
  },
  {
   "cell_type": "code",
   "execution_count": 2,
   "metadata": {},
   "outputs": [
    {
     "name": "stderr",
     "output_type": "stream",
     "text": [
      "(0.000) SELECT \"books_publisher\".\"id\", \"books_publisher\".\"name\", \"books_publisher\".\"country\" FROM \"books_publisher\" WHERE \"books_publisher\".\"name\" = 'Publisher1' LIMIT 21; args=('Publisher1',)\n",
      "(0.016) INSERT INTO \"books_book\" (\"name\", \"price\", \"issued\", \"publisher_id\") VALUES ('Harry Potter', 350, '1995-09-12', 401); args=['Harry Potter', 350, '1995-09-12', 401]\n",
      "(0.006) UPDATE \"books_book\" SET \"name\" = 'Harry Potter and Philosopher Stone', \"price\" = 350, \"issued\" = '1995-09-12', \"publisher_id\" = 401 WHERE \"books_book\".\"id\" = 90007; args=('Harry Potter and Philosopher Stone', 350, '1995-09-12', 401, 90007)\n",
      "(0.000) SELECT \"books_book\".\"id\", \"books_book\".\"name\", \"books_book\".\"price\", \"books_book\".\"issued\", \"books_book\".\"publisher_id\" FROM \"books_book\" WHERE \"books_book\".\"id\" = 90007 LIMIT 21; args=(90007,)\n",
      "(0.000) BEGIN; args=None\n",
      "(0.000) DELETE FROM \"books_store_books\" WHERE \"books_store_books\".\"book_id\" IN (90007); args=(90007,)\n",
      "(0.000) DELETE FROM \"books_book\" WHERE \"books_book\".\"id\" IN (90007); args=(90007,)\n",
      "(0.001) SELECT \"books_book\".\"id\", \"books_book\".\"name\", \"books_book\".\"price\", \"books_book\".\"issued\", \"books_book\".\"publisher_id\" FROM \"books_book\" WHERE \"books_book\".\"id\" IS NULL LIMIT 21; args=()\n"
     ]
    },
    {
     "name": "stdout",
     "output_type": "stream",
     "text": [
      "Harry Potter and Philosopher Stone\n",
      "Такой книги уже нет\n"
     ]
    }
   ],
   "source": [
    "#Examples\n",
    "publisher_hp = Publisher.objects.get(name=\"Publisher1\")\n",
    "book_new = Book.objects.create(name=\"Harry Potter\",price=350,issued=datetime.date(1995, 9, 12), publisher=publisher_hp)\n",
    "#Новая книга уже в БД\n",
    "\n",
    "book_new.name = \"Harry Potter and Philosopher Stone\"\n",
    "book_new.save()\n",
    "\n",
    "print(Book.objects.get(id=book_new.id))\n",
    "book_new.delete()\n",
    "try:\n",
    "    print(Book.objects.get(id=book_new.id))\n",
    "except Exception as e:\n",
    "    print('Такой книги уже нет')\n"
   ]
  },
  {
   "cell_type": "code",
   "execution_count": null,
   "metadata": {},
   "outputs": [],
   "source": []
  },
  {
   "cell_type": "markdown",
   "metadata": {},
   "source": [
    "## Фильтрация объектов"
   ]
  },
  {
   "cell_type": "markdown",
   "metadata": {},
   "source": [
    "filter\n",
    "\n",
    "fieldname__operator\n",
    "\n",
    "Example,\n",
    "text__contains='text'\n",
    "\n",
    "text__exact='Exact phrase'\n",
    "\n",
    "### Operators:\n",
    "\n",
    "1. exact\n",
    "2. iexact\n",
    "3. contains\n",
    "4. in\n",
    "5. gt — > (больше),\n",
    "6. gte — => (больше или равно),\n",
    "7. lt — < (меньше),\n",
    "8. lte — <= (меньше или равно).\n",
    "9. Операторы сравнения с началом и концом строки startswith, endswith\n",
    "10. range — вхождение в диапазон\n",
    "11. isnull — проверка на пустое значение.\n",
    "\n",
    "\n",
    "https://docs.djangoproject.com/en/3.1/topics/db/queries/"
   ]
  },
  {
   "cell_type": "code",
   "execution_count": 4,
   "metadata": {},
   "outputs": [
    {
     "name": "stderr",
     "output_type": "stream",
     "text": [
      "(0.000) SELECT \"books_publisher\".\"id\", \"books_publisher\".\"name\", \"books_publisher\".\"country\" FROM \"books_publisher\" WHERE \"books_publisher\".\"name\" = 'Publisher5' LIMIT 21; args=('Publisher5',)\n",
      "(0.000) SELECT \"books_book\".\"id\", \"books_book\".\"name\", \"books_book\".\"price\", \"books_book\".\"issued\", \"books_book\".\"publisher_id\" FROM \"books_book\" WHERE \"books_book\".\"publisher_id\" = 405; args=(405,)\n"
     ]
    },
    {
     "name": "stdout",
     "output_type": "stream",
     "text": [
      "200\n"
     ]
    }
   ],
   "source": [
    "# Example\n",
    "\n",
    "# Простой фильтр\n",
    "publisher5 = Publisher.objects.get(name='Publisher5')\n",
    "published_by_fifth = Book.objects.filter(publisher=publisher5)\n",
    "print(len(published_by_fifth)) #Полный запрос к БД"
   ]
  },
  {
   "cell_type": "code",
   "execution_count": 5,
   "metadata": {},
   "outputs": [
    {
     "name": "stderr",
     "output_type": "stream",
     "text": [
      "(0.000) SELECT \"books_book\".\"id\", \"books_book\".\"name\", \"books_book\".\"price\", \"books_book\".\"issued\", \"books_book\".\"publisher_id\" FROM \"books_book\" WHERE \"books_book\".\"issued\" BETWEEN '1800-01-01' AND '1850-01-01'; args=('1800-01-01', '1850-01-01')\n"
     ]
    },
    {
     "name": "stdout",
     "output_type": "stream",
     "text": [
      "2321\n"
     ]
    }
   ],
   "source": [
    "# Фильтр с оператором\n",
    "# Поиск изданий между датами\n",
    "start_search = datetime.date(1800,1,1)\n",
    "end_search = datetime.date(1850,1,1)\n",
    "pub_bet_dates = Book.objects.filter(issued__range=(start_search, end_search))\n",
    "print(len(pub_bet_dates))"
   ]
  },
  {
   "cell_type": "code",
   "execution_count": 6,
   "metadata": {},
   "outputs": [
    {
     "name": "stderr",
     "output_type": "stream",
     "text": [
      "(0.000) SELECT \"books_book\".\"id\", \"books_book\".\"name\", \"books_book\".\"price\", \"books_book\".\"issued\", \"books_book\".\"publisher_id\" FROM \"books_book\" INNER JOIN \"books_publisher\" ON (\"books_book\".\"publisher_id\" = \"books_publisher\".\"id\") WHERE \"books_publisher\".\"country\" = 'Norway'; args=('Norway',)\n"
     ]
    },
    {
     "name": "stdout",
     "output_type": "stream",
     "text": [
      "1200\n"
     ]
    }
   ],
   "source": [
    "# Фильтр по полю связанного объекта\n",
    "books_from_norway_publisher = Book.objects.filter(publisher__country='Norway')\n",
    "print(len(books_from_norway_publisher))"
   ]
  },
  {
   "cell_type": "code",
   "execution_count": 7,
   "metadata": {},
   "outputs": [
    {
     "name": "stderr",
     "output_type": "stream",
     "text": [
      "(0.001) SELECT \"books_book\".\"id\", \"books_book\".\"name\", \"books_book\".\"price\", \"books_book\".\"issued\", \"books_book\".\"publisher_id\" FROM \"books_book\" INNER JOIN \"books_publisher\" ON (\"books_book\".\"publisher_id\" = \"books_publisher\".\"id\") WHERE \"books_publisher\".\"country\" LIKE 'U%' ESCAPE '\\'; args=('U%',)\n",
      "(0.000) SELECT \"books_book\".\"id\", \"books_book\".\"name\", \"books_book\".\"price\", \"books_book\".\"issued\", \"books_book\".\"publisher_id\" FROM \"books_book\" WHERE \"books_book\".\"publisher_id\" IN (SELECT U0.\"id\" FROM \"books_publisher\" U0 WHERE U0.\"country\" LIKE 'U%' ESCAPE '\\'); args=('U%',)\n"
     ]
    },
    {
     "name": "stdout",
     "output_type": "stream",
     "text": [
      "1800\n",
      "1800\n"
     ]
    }
   ],
   "source": [
    "# Фильтр\n",
    "books_from_u = Book.objects.filter(publisher__country__startswith='U')\n",
    "print(len(books_from_u))\n",
    "\n",
    "\n",
    "# То же самое другим способом\n",
    "publishers_u = Publisher.objects.filter(country__startswith='U')\n",
    "print(len(Book.objects.filter(publisher__in=publishers_u)))"
   ]
  },
  {
   "cell_type": "code",
   "execution_count": 8,
   "metadata": {},
   "outputs": [
    {
     "name": "stderr",
     "output_type": "stream",
     "text": [
      "(0.001) SELECT \"books_book\".\"id\", \"books_book\".\"name\", \"books_book\".\"price\", \"books_book\".\"issued\", \"books_book\".\"publisher_id\" FROM \"books_book\" INNER JOIN \"books_publisher\" ON (\"books_book\".\"publisher_id\" = \"books_publisher\".\"id\") WHERE (\"books_book\".\"issued\" BETWEEN '1800-01-01' AND '1810-01-01' AND \"books_publisher\".\"country\" = 'UK') LIMIT 21; args=('1800-01-01', '1810-01-01', 'UK')\n"
     ]
    },
    {
     "name": "stdout",
     "output_type": "stream",
     "text": [
      "<QuerySet [<Book: Book404>, <Book: Book409>, <Book: Book429>, <Book: Book434>, <Book: Book482>, <Book: Book486>, <Book: Book502>, <Book: Book536>, <Book: Book6242>, <Book: Book6263>, <Book: Book6282>, <Book: Book6299>, <Book: Book6304>, <Book: Book6317>, <Book: Book6323>, <Book: Book6329>, <Book: Book6397>, <Book: Book6640>, <Book: Book6665>, <Book: Book6693>, '...(remaining elements truncated)...']>\n"
     ]
    }
   ],
   "source": [
    "# Фильтр, объединение условий\n",
    "start_search = datetime.date(1800,1,1)\n",
    "end_search = datetime.date(1810,1,1)\n",
    "published_by_uk = Book.objects.filter(issued__range=(start_search, end_search)).filter(publisher__country=\"UK\")\n",
    "print(published_by_uk)"
   ]
  },
  {
   "cell_type": "code",
   "execution_count": 9,
   "metadata": {},
   "outputs": [
    {
     "name": "stderr",
     "output_type": "stream",
     "text": [
      "(0.000) SELECT \"books_book\".\"id\", \"books_book\".\"name\", \"books_book\".\"price\", \"books_book\".\"issued\", \"books_book\".\"publisher_id\" FROM \"books_book\" INNER JOIN \"books_publisher\" ON (\"books_book\".\"publisher_id\" = \"books_publisher\".\"id\") WHERE (\"books_book\".\"issued\" BETWEEN '1800-01-01' AND '1810-01-01' AND \"books_publisher\".\"country\" = 'UK') ORDER BY \"books_book\".\"name\" DESC LIMIT 10; args=('1800-01-01', '1810-01-01', 'UK')\n"
     ]
    },
    {
     "data": {
      "text/plain": [
       "<QuerySet [<Book: Book7770>, <Book: Book7769>, <Book: Book7753>, <Book: Book7749>, <Book: Book7746>, <Book: Book7742>, <Book: Book7708>, <Book: Book7702>, <Book: Book7683>, <Book: Book7621>]>"
      ]
     },
     "execution_count": 9,
     "metadata": {},
     "output_type": "execute_result"
    }
   ],
   "source": [
    "# Ограничение и сортировка\n",
    "published_by_uk.order_by(\"-name\")[:10]"
   ]
  },
  {
   "cell_type": "code",
   "execution_count": 10,
   "metadata": {},
   "outputs": [
    {
     "name": "stdout",
     "output_type": "stream",
     "text": [
      "Cannot reorder a query once a slice has been taken.\n"
     ]
    }
   ],
   "source": [
    "# Ошибка! Сначала должна быть сортировка\n",
    "try:\n",
    "    published_by_uk[:10].order_by(\"-name\")\n",
    "except Exception as e:\n",
    "    print(e)"
   ]
  },
  {
   "cell_type": "code",
   "execution_count": 11,
   "metadata": {},
   "outputs": [],
   "source": [
    "# Tasks\n",
    "# Найти количество книг дороже 150 с издателем в России и их сумма (два запроса)"
   ]
  },
  {
   "cell_type": "code",
   "execution_count": null,
   "metadata": {},
   "outputs": [],
   "source": []
  },
  {
   "cell_type": "markdown",
   "metadata": {},
   "source": [
    "## Загрузка связанных записей\n",
    "\n",
    "https://docs.djangoproject.com/en/3.1/ref/models/querysets/\n",
    "\n",
    "<b>select_related</b>\n",
    "\n",
    "Returns a QuerySet that will “follow” foreign-key relationships, selecting additional related-object data when it executes its query. This is a performance booster which results in a single more complex query but means later use of foreign-key relationships won’t require database queries.\n",
    "\n",
    "<b>prefetch_related</b>\n",
    "\n",
    "Returns a QuerySet that will automatically retrieve, in a single batch, related objects for each of the specified lookups.\n",
    "\n",
    "This has a similar purpose to select_related, in that both are designed to stop the deluge of database queries that is caused by accessing related objects, but the strategy is quite different.\n",
    "\n",
    "select_related works by creating an SQL join and including the fields of the related object in the SELECT statement. For this reason, select_related gets the related objects in the same database query. However, to avoid the much larger result set that would result from joining across a ‘many’ relationship, select_related is limited to single-valued relationships - foreign key and one-to-one."
   ]
  },
  {
   "cell_type": "code",
   "execution_count": 12,
   "metadata": {},
   "outputs": [],
   "source": [
    "@query_debugger\n",
    "def naive_books():\n",
    "    queryset = Book.objects.all()\n",
    "    books = []\n",
    "    for book in queryset:\n",
    "        books.append({'id': book.id, 'name': book.name, 'publisher': book.publisher.name})\n",
    "    \n",
    "@query_debugger\n",
    "def run_prefetch_books():\n",
    "    queryset = Book.objects.prefetch_related('publisher').all()\n",
    "    books = []\n",
    "    for book in queryset:\n",
    "        books.append({'id': book.id, 'name': book.name, 'publisher': book.publisher.name})\n",
    "\n",
    "@query_debugger\n",
    "def run_select_books():\n",
    "    queryset = Book.objects.select_related('publisher').all()\n",
    "    books = []\n",
    "    for book in queryset:\n",
    "        books.append({'id': book.id, 'name': book.name, 'publisher': book.publisher.name})\n",
    "\n",
    "@query_debugger\n",
    "def run_prefetch_store():\n",
    "    queryset = Store.objects.prefetch_related('books').all()\n",
    "    stores = []\n",
    "    for store in queryset:\n",
    "        stores.append({'id': store.id, 'name': store.name, 'books': store.books})"
   ]
  },
  {
   "cell_type": "code",
   "execution_count": 13,
   "metadata": {},
   "outputs": [],
   "source": [
    "# naive_books()"
   ]
  },
  {
   "cell_type": "code",
   "execution_count": 14,
   "metadata": {},
   "outputs": [
    {
     "name": "stderr",
     "output_type": "stream",
     "text": [
      "(0.002) SELECT \"books_book\".\"id\", \"books_book\".\"name\", \"books_book\".\"price\", \"books_book\".\"issued\", \"books_book\".\"publisher_id\" FROM \"books_book\"; args=()\n",
      "(0.000) SELECT \"books_publisher\".\"id\", \"books_publisher\".\"name\", \"books_publisher\".\"country\" FROM \"books_publisher\" WHERE \"books_publisher\".\"id\" IN (401, 402, 403, 404, 405, 406, 407, 408, 409, 410, 411, 412, 413, 414, 415, 416, 417, 418, 419, 420, 421, 422, 423, 424, 425, 426, 427, 428, 429, 430, 431, 432, 433, 434, 435, 436, 437, 438, 439, 440, 441, 442, 443, 444, 445, 446, 447, 448, 449, 450); args=(401, 402, 403, 404, 405, 406, 407, 408, 409, 410, 411, 412, 413, 414, 415, 416, 417, 418, 419, 420, 421, 422, 423, 424, 425, 426, 427, 428, 429, 430, 431, 432, 433, 434, 435, 436, 437, 438, 439, 440, 441, 442, 443, 444, 445, 446, 447, 448, 449, 450)\n"
     ]
    },
    {
     "name": "stdout",
     "output_type": "stream",
     "text": [
      "Function : run_prefetch_books\n",
      "Number of Queries : 2\n",
      "Finished in : 0.19s\n"
     ]
    }
   ],
   "source": [
    "run_prefetch_books()"
   ]
  },
  {
   "cell_type": "code",
   "execution_count": 15,
   "metadata": {},
   "outputs": [
    {
     "name": "stderr",
     "output_type": "stream",
     "text": [
      "(0.001) SELECT \"books_book\".\"id\", \"books_book\".\"name\", \"books_book\".\"price\", \"books_book\".\"issued\", \"books_book\".\"publisher_id\", \"books_publisher\".\"id\", \"books_publisher\".\"name\", \"books_publisher\".\"country\" FROM \"books_book\" INNER JOIN \"books_publisher\" ON (\"books_book\".\"publisher_id\" = \"books_publisher\".\"id\"); args=()\n"
     ]
    },
    {
     "name": "stdout",
     "output_type": "stream",
     "text": [
      "Function : run_select_books\n",
      "Number of Queries : 1\n",
      "Finished in : 0.26s\n"
     ]
    }
   ],
   "source": [
    "run_select_books()"
   ]
  },
  {
   "cell_type": "code",
   "execution_count": 16,
   "metadata": {},
   "outputs": [
    {
     "name": "stderr",
     "output_type": "stream",
     "text": [
      "(0.001) SELECT \"books_store\".\"id\", \"books_store\".\"name\", \"books_store\".\"marginal_price\" FROM \"books_store\"; args=()\n",
      "(0.000) SELECT (\"books_store_books\".\"store_id\") AS \"_prefetch_related_val_store_id\", \"books_book\".\"id\", \"books_book\".\"name\", \"books_book\".\"price\", \"books_book\".\"issued\", \"books_book\".\"publisher_id\" FROM \"books_book\" INNER JOIN \"books_store_books\" ON (\"books_book\".\"id\" = \"books_store_books\".\"book_id\") WHERE \"books_store_books\".\"store_id\" IN (801, 802, 803, 804, 805, 806, 807, 808, 809, 810, 811, 812, 813, 814, 815, 816, 817, 818, 819, 820, 821, 822, 823, 824, 825, 826, 827, 828, 829, 830, 831, 832, 833, 834, 835, 836, 837, 838, 839, 840, 841, 842, 843, 844, 845, 846, 847, 848, 849, 850, 851, 852, 853, 854, 855, 856, 857, 858, 859, 860, 861, 862, 863, 864, 865, 866, 867, 868, 869, 870, 871, 872, 873, 874, 875, 876, 877, 878, 879, 880, 881, 882, 883, 884, 885, 886, 887, 888, 889, 890, 891, 892, 893, 894, 895, 896, 897, 898, 899, 900); args=(801, 802, 803, 804, 805, 806, 807, 808, 809, 810, 811, 812, 813, 814, 815, 816, 817, 818, 819, 820, 821, 822, 823, 824, 825, 826, 827, 828, 829, 830, 831, 832, 833, 834, 835, 836, 837, 838, 839, 840, 841, 842, 843, 844, 845, 846, 847, 848, 849, 850, 851, 852, 853, 854, 855, 856, 857, 858, 859, 860, 861, 862, 863, 864, 865, 866, 867, 868, 869, 870, 871, 872, 873, 874, 875, 876, 877, 878, 879, 880, 881, 882, 883, 884, 885, 886, 887, 888, 889, 890, 891, 892, 893, 894, 895, 896, 897, 898, 899, 900)\n"
     ]
    },
    {
     "name": "stdout",
     "output_type": "stream",
     "text": [
      "Function : run_prefetch_store\n",
      "Number of Queries : 2\n",
      "Finished in : 0.16s\n"
     ]
    }
   ],
   "source": [
    "run_prefetch_store()"
   ]
  },
  {
   "cell_type": "code",
   "execution_count": 17,
   "metadata": {},
   "outputs": [
    {
     "name": "stdout",
     "output_type": "stream",
     "text": [
      "Invalid field name(s) given in select_related: 'books'. Choices are: (none)\n"
     ]
    }
   ],
   "source": [
    "# select_related не работает для many-to-many полей\n",
    "try:\n",
    "    len(Store.objects.select_related('books').all())\n",
    "except Exception as e:\n",
    "    print(e)"
   ]
  },
  {
   "cell_type": "code",
   "execution_count": 18,
   "metadata": {},
   "outputs": [],
   "source": [
    "# Multiple examples"
   ]
  },
  {
   "cell_type": "code",
   "execution_count": 19,
   "metadata": {},
   "outputs": [
    {
     "name": "stderr",
     "output_type": "stream",
     "text": [
      "(0.000) SELECT \"books_storechain\".\"id\", \"books_storechain\".\"name\", \"books_storechain\".\"best_store_id\" FROM \"books_storechain\"; args=()\n",
      "(0.000) SELECT (\"books_storechain_stores\".\"storechain_id\") AS \"_prefetch_related_val_storechain_id\", \"books_store\".\"id\", \"books_store\".\"name\", \"books_store\".\"marginal_price\" FROM \"books_store\" INNER JOIN \"books_storechain_stores\" ON (\"books_store\".\"id\" = \"books_storechain_stores\".\"store_id\") WHERE \"books_storechain_stores\".\"storechain_id\" IN (35, 36, 37, 38, 39); args=(35, 36, 37, 38, 39)\n",
      "(0.000) SELECT (\"books_store_books\".\"store_id\") AS \"_prefetch_related_val_store_id\", \"books_book\".\"id\", \"books_book\".\"name\", \"books_book\".\"price\", \"books_book\".\"issued\", \"books_book\".\"publisher_id\" FROM \"books_book\" INNER JOIN \"books_store_books\" ON (\"books_book\".\"id\" = \"books_store_books\".\"book_id\") WHERE \"books_store_books\".\"store_id\" IN (801, 802, 803, 804, 805, 806, 807, 808, 809, 810, 811, 812, 813, 814, 815, 816, 817, 818, 819, 820, 821, 822, 823, 824, 825, 826, 827, 828, 829, 830, 831, 832, 833, 834, 835, 836, 837, 838, 839, 840, 841, 842, 843, 844, 845, 846, 847, 848, 849, 850, 851, 852, 853, 854, 855, 856, 857, 858, 859, 860, 861, 862, 863, 864, 865, 866, 867, 868, 869, 870, 871, 872, 873, 874, 875, 876, 877, 878, 879, 880, 881, 882, 883, 884, 885, 886, 887, 888, 889, 890, 891, 892, 893, 894, 895); args=(801, 802, 803, 804, 805, 806, 807, 808, 809, 810, 811, 812, 813, 814, 815, 816, 817, 818, 819, 820, 821, 822, 823, 824, 825, 826, 827, 828, 829, 830, 831, 832, 833, 834, 835, 836, 837, 838, 839, 840, 841, 842, 843, 844, 845, 846, 847, 848, 849, 850, 851, 852, 853, 854, 855, 856, 857, 858, 859, 860, 861, 862, 863, 864, 865, 866, 867, 868, 869, 870, 871, 872, 873, 874, 875, 876, 877, 878, 879, 880, 881, 882, 883, 884, 885, 886, 887, 888, 889, 890, 891, 892, 893, 894, 895)\n"
     ]
    },
    {
     "data": {
      "text/plain": [
       "[<StoreChain: Chain1>,\n",
       " <StoreChain: Chain2>,\n",
       " <StoreChain: Chain3>,\n",
       " <StoreChain: Chain4>,\n",
       " <StoreChain: Chain5>]"
      ]
     },
     "execution_count": 19,
     "metadata": {},
     "output_type": "execute_result"
    }
   ],
   "source": [
    "list(StoreChain.objects.prefetch_related(Prefetch('stores__books')))"
   ]
  },
  {
   "cell_type": "code",
   "execution_count": 20,
   "metadata": {},
   "outputs": [
    {
     "name": "stderr",
     "output_type": "stream",
     "text": [
      "(0.000) SELECT \"books_storechain\".\"id\", \"books_storechain\".\"name\", \"books_storechain\".\"best_store_id\" FROM \"books_storechain\"; args=()\n",
      "(0.000) SELECT \"books_store\".\"id\", \"books_store\".\"name\", \"books_store\".\"marginal_price\" FROM \"books_store\" WHERE \"books_store\".\"id\" IN (899, 845, 821, 891, 892); args=(899, 845, 821, 891, 892)\n",
      "(0.000) SELECT (\"books_store_books\".\"store_id\") AS \"_prefetch_related_val_store_id\", \"books_book\".\"id\", \"books_book\".\"name\", \"books_book\".\"price\", \"books_book\".\"issued\", \"books_book\".\"publisher_id\" FROM \"books_book\" INNER JOIN \"books_store_books\" ON (\"books_book\".\"id\" = \"books_store_books\".\"book_id\") WHERE \"books_store_books\".\"store_id\" IN (821, 845, 891, 892, 899); args=(821, 845, 891, 892, 899)\n"
     ]
    },
    {
     "data": {
      "text/plain": [
       "[<StoreChain: Chain1>,\n",
       " <StoreChain: Chain2>,\n",
       " <StoreChain: Chain3>,\n",
       " <StoreChain: Chain4>,\n",
       " <StoreChain: Chain5>]"
      ]
     },
     "execution_count": 20,
     "metadata": {},
     "output_type": "execute_result"
    }
   ],
   "source": [
    "list(StoreChain.objects.prefetch_related(Prefetch('best_store__books')))"
   ]
  },
  {
   "cell_type": "code",
   "execution_count": 21,
   "metadata": {},
   "outputs": [
    {
     "name": "stderr",
     "output_type": "stream",
     "text": [
      "(0.002) SELECT \"books_storechain\".\"id\", \"books_storechain\".\"name\", \"books_storechain\".\"best_store_id\" FROM \"books_storechain\"; args=()\n",
      "(0.000) SELECT (\"books_storechain_stores\".\"storechain_id\") AS \"_prefetch_related_val_storechain_id\", \"books_store\".\"id\", \"books_store\".\"name\", \"books_store\".\"marginal_price\" FROM \"books_store\" INNER JOIN \"books_storechain_stores\" ON (\"books_store\".\"id\" = \"books_storechain_stores\".\"store_id\") WHERE \"books_storechain_stores\".\"storechain_id\" IN (35, 36, 37, 38, 39); args=(35, 36, 37, 38, 39)\n",
      "(0.000) SELECT (\"books_store_books\".\"store_id\") AS \"_prefetch_related_val_store_id\", \"books_book\".\"id\", \"books_book\".\"name\", \"books_book\".\"price\", \"books_book\".\"issued\", \"books_book\".\"publisher_id\" FROM \"books_book\" INNER JOIN \"books_store_books\" ON (\"books_book\".\"id\" = \"books_store_books\".\"book_id\") WHERE \"books_store_books\".\"store_id\" IN (801, 802, 803, 804, 805, 806, 807, 808, 809, 810, 811, 812, 813, 814, 815, 816, 817, 818, 819, 820, 821, 822, 823, 824, 825, 826, 827, 828, 829, 830, 831, 832, 833, 834, 835, 836, 837, 838, 839, 840, 841, 842, 843, 844, 845, 846, 847, 848, 849, 850, 851, 852, 853, 854, 855, 856, 857, 858, 859, 860, 861, 862, 863, 864, 865, 866, 867, 868, 869, 870, 871, 872, 873, 874, 875, 876, 877, 878, 879, 880, 881, 882, 883, 884, 885, 886, 887, 888, 889, 890, 891, 892, 893, 894, 895); args=(801, 802, 803, 804, 805, 806, 807, 808, 809, 810, 811, 812, 813, 814, 815, 816, 817, 818, 819, 820, 821, 822, 823, 824, 825, 826, 827, 828, 829, 830, 831, 832, 833, 834, 835, 836, 837, 838, 839, 840, 841, 842, 843, 844, 845, 846, 847, 848, 849, 850, 851, 852, 853, 854, 855, 856, 857, 858, 859, 860, 861, 862, 863, 864, 865, 866, 867, 868, 869, 870, 871, 872, 873, 874, 875, 876, 877, 878, 879, 880, 881, 882, 883, 884, 885, 886, 887, 888, 889, 890, 891, 892, 893, 894, 895)\n"
     ]
    }
   ],
   "source": [
    "# 3 Queries\n",
    "chains = list(StoreChain.objects.prefetch_related('stores__books'))"
   ]
  },
  {
   "cell_type": "code",
   "execution_count": 76,
   "metadata": {},
   "outputs": [
    {
     "name": "stderr",
     "output_type": "stream",
     "text": [
      "(0.000) SELECT \"books_storechain\".\"id\", \"books_storechain\".\"name\", \"books_storechain\".\"best_store_id\" FROM \"books_storechain\" LIMIT 21; args=()\n",
      "(0.000) SELECT \"books_store\".\"id\", \"books_store\".\"name\", \"books_store\".\"marginal_price\" FROM \"books_store\" WHERE \"books_store\".\"id\" IN (899, 845, 821, 891, 892); args=(899, 845, 821, 891, 892)\n",
      "(0.000) SELECT (\"books_store_books\".\"store_id\") AS \"_prefetch_related_val_store_id\", \"books_book\".\"id\", \"books_book\".\"name\", \"books_book\".\"price\", \"books_book\".\"issued\", \"books_book\".\"publisher_id\" FROM \"books_book\" INNER JOIN \"books_store_books\" ON (\"books_book\".\"id\" = \"books_store_books\".\"book_id\") WHERE \"books_store_books\".\"store_id\" IN (821, 845, 891, 892, 899); args=(821, 845, 891, 892, 899)\n"
     ]
    },
    {
     "data": {
      "text/plain": [
       "<QuerySet [<StoreChain: Chain1>, <StoreChain: Chain2>, <StoreChain: Chain3>, <StoreChain: Chain4>, <StoreChain: Chain5>]>"
      ]
     },
     "execution_count": 76,
     "metadata": {},
     "output_type": "execute_result"
    }
   ],
   "source": [
    "# 3 Queries\n",
    "StoreChain.objects.prefetch_related(Prefetch('best_store__books'))"
   ]
  },
  {
   "cell_type": "code",
   "execution_count": 23,
   "metadata": {},
   "outputs": [
    {
     "name": "stderr",
     "output_type": "stream",
     "text": [
      "(0.000) SELECT \"books_storechain\".\"id\", \"books_storechain\".\"name\", \"books_storechain\".\"best_store_id\", \"books_store\".\"id\", \"books_store\".\"name\", \"books_store\".\"marginal_price\" FROM \"books_storechain\" INNER JOIN \"books_store\" ON (\"books_storechain\".\"best_store_id\" = \"books_store\".\"id\") LIMIT 21; args=()\n",
      "(0.000) SELECT (\"books_store_books\".\"store_id\") AS \"_prefetch_related_val_store_id\", \"books_book\".\"id\", \"books_book\".\"name\", \"books_book\".\"price\", \"books_book\".\"issued\", \"books_book\".\"publisher_id\" FROM \"books_book\" INNER JOIN \"books_store_books\" ON (\"books_book\".\"id\" = \"books_store_books\".\"book_id\") WHERE \"books_store_books\".\"store_id\" IN (821, 845, 892, 891, 899); args=(821, 845, 892, 891, 899)\n"
     ]
    },
    {
     "data": {
      "text/plain": [
       "<QuerySet [<StoreChain: Chain1>, <StoreChain: Chain2>, <StoreChain: Chain3>, <StoreChain: Chain4>, <StoreChain: Chain5>]>"
      ]
     },
     "execution_count": 23,
     "metadata": {},
     "output_type": "execute_result"
    }
   ],
   "source": [
    "# 2 Queries\n",
    "StoreChain.objects.select_related('best_store').prefetch_related('best_store__books')"
   ]
  },
  {
   "cell_type": "markdown",
   "metadata": {},
   "source": [
    "## Агрегирующие записи\n",
    "Avg: вернёт среднее значение по указанной колонке в выборке\n",
    "\n",
    "Count: вернёт количество записей в выборке, как и метод count(), описанный выше\n",
    "\n",
    "Max: вернёт максимальное значение по указанной колонке в выборке\n",
    "\n",
    "Min: вернёт минимальное значение по указанной колонке в выборке\n",
    "\n",
    "Sum: вернёт сумму значений по указанной колонке в выборке"
   ]
  },
  {
   "cell_type": "code",
   "execution_count": 24,
   "metadata": {},
   "outputs": [
    {
     "name": "stderr",
     "output_type": "stream",
     "text": [
      "(0.000) SELECT COUNT(*) AS \"__count\" FROM \"books_store\" INNER JOIN \"books_storechain_stores\" ON (\"books_store\".\"id\" = \"books_storechain_stores\".\"store_id\") INNER JOIN \"books_storechain\" ON (\"books_storechain_stores\".\"storechain_id\" = \"books_storechain\".\"id\") WHERE \"books_storechain\".\"name\" = 'Chain3'; args=('Chain3',)\n"
     ]
    },
    {
     "data": {
      "text/plain": [
       "19"
      ]
     },
     "execution_count": 24,
     "metadata": {},
     "output_type": "execute_result"
    }
   ],
   "source": [
    "Store.objects.filter(chains__name='Chain3').count()"
   ]
  },
  {
   "cell_type": "code",
   "execution_count": 25,
   "metadata": {},
   "outputs": [
    {
     "name": "stderr",
     "output_type": "stream",
     "text": [
      "(0.004) SELECT AVG(\"books_book\".\"price\") AS \"price__avg\" FROM \"books_book\" INNER JOIN \"books_store_books\" ON (\"books_book\".\"id\" = \"books_store_books\".\"book_id\") INNER JOIN \"books_store\" ON (\"books_store_books\".\"store_id\" = \"books_store\".\"id\") WHERE \"books_store\".\"name\" = 'Store2'; args=('Store2',)\n"
     ]
    },
    {
     "data": {
      "text/plain": [
       "{'price__avg': 160.34}"
      ]
     },
     "execution_count": 25,
     "metadata": {},
     "output_type": "execute_result"
    }
   ],
   "source": [
    "Book.objects.filter(store__name='Store2').aggregate(Avg('price'))"
   ]
  },
  {
   "cell_type": "code",
   "execution_count": 26,
   "metadata": {},
   "outputs": [
    {
     "name": "stderr",
     "output_type": "stream",
     "text": [
      "(0.008) SELECT SUM(\"books_book\".\"price\") AS \"price__sum\" FROM \"books_book\" WHERE (NOT (\"books_book\".\"id\" IN (SELECT U1.\"book_id\" FROM \"books_store_books\" U1 INNER JOIN \"books_store\" U2 ON (U1.\"store_id\" = U2.\"id\") INNER JOIN \"books_storechain_stores\" U3 ON (U2.\"id\" = U3.\"store_id\") INNER JOIN \"books_storechain\" U4 ON (U3.\"storechain_id\" = U4.\"id\") WHERE U4.\"name\" IN ('Chain1', 'Chain2'))) AND \"books_book\".\"price\" > 150); args=('Chain1', 'Chain2', 150)\n"
     ]
    },
    {
     "data": {
      "text/plain": [
       "{'price__sum': 833632}"
      ]
     },
     "execution_count": 26,
     "metadata": {},
     "output_type": "execute_result"
    }
   ],
   "source": [
    "Book.objects.exclude(store__chains__name__in=['Chain1','Chain2']).filter(price__gt=150).aggregate(Sum('price'))"
   ]
  },
  {
   "cell_type": "code",
   "execution_count": 27,
   "metadata": {},
   "outputs": [
    {
     "name": "stderr",
     "output_type": "stream",
     "text": [
      "(0.003) SELECT \"books_store\".\"id\", \"books_store\".\"name\", \"books_store\".\"marginal_price\" FROM \"books_store\" INNER JOIN \"books_storechain\" ON (\"books_store\".\"id\" = \"books_storechain\".\"best_store_id\") WHERE \"books_storechain\".\"name\" = 'Chain1' LIMIT 21; args=('Chain1',)\n"
     ]
    },
    {
     "data": {
      "text/plain": [
       "<QuerySet [<Store: Store21>]>"
      ]
     },
     "execution_count": 27,
     "metadata": {},
     "output_type": "execute_result"
    }
   ],
   "source": [
    "# Связь между таблицами\n",
    "# Найдем лучший магазин в 1 сетке\n",
    "Store.objects.filter(championed_by__name='Chain1')"
   ]
  },
  {
   "cell_type": "code",
   "execution_count": 28,
   "metadata": {},
   "outputs": [],
   "source": [
    "# Книг в магазине\n",
    "annotated_results = Store.objects.annotate(books_count = Count('books'))"
   ]
  },
  {
   "cell_type": "code",
   "execution_count": 29,
   "metadata": {},
   "outputs": [
    {
     "name": "stderr",
     "output_type": "stream",
     "text": [
      "(0.000) SELECT \"books_store\".\"id\", \"books_store\".\"name\", \"books_store\".\"marginal_price\", COUNT(\"books_store_books\".\"book_id\") AS \"books_count\" FROM \"books_store\" LEFT OUTER JOIN \"books_store_books\" ON (\"books_store\".\"id\" = \"books_store_books\".\"store_id\") GROUP BY \"books_store\".\"id\", \"books_store\".\"name\", \"books_store\".\"marginal_price\"; args=()\n"
     ]
    },
    {
     "name": "stdout",
     "output_type": "stream",
     "text": [
      "[100, 100, 100, 100, 100, 100, 100, 100, 100, 100, 100, 100, 100, 100, 100, 100, 100, 100, 100, 100, 100, 100, 100, 100, 100, 100, 100, 100, 100, 100, 100, 100, 100, 100, 100, 100, 100, 100, 100, 100, 100, 100, 100, 100, 100, 100, 100, 100, 100, 100, 100, 100, 100, 100, 100, 100, 100, 100, 100, 100, 100, 100, 100, 100, 100, 100, 100, 100, 100, 100, 100, 100, 100, 100, 100, 100, 100, 100, 100, 100, 100, 100, 100, 100, 100, 100, 100, 100, 100, 100, 100, 100, 100, 100, 100, 100, 100, 100, 100, 100]\n"
     ]
    }
   ],
   "source": [
    "print([item.books_count for item in list(annotated_results)])"
   ]
  },
  {
   "cell_type": "code",
   "execution_count": 30,
   "metadata": {},
   "outputs": [],
   "source": [
    "# Задание: посчитать количество магазинов в сетке"
   ]
  },
  {
   "cell_type": "code",
   "execution_count": null,
   "metadata": {},
   "outputs": [],
   "source": []
  },
  {
   "cell_type": "markdown",
   "metadata": {},
   "source": [
    "## Closures and decorators"
   ]
  },
  {
   "cell_type": "markdown",
   "metadata": {},
   "source": [
    "### Local functions\n",
    "\n",
    "LEGB Rule (Local, enclosing, global, built-in)"
   ]
  },
  {
   "cell_type": "code",
   "execution_count": 31,
   "metadata": {},
   "outputs": [
    {
     "name": "stdout",
     "output_type": "stream",
     "text": [
      "global param local\n"
     ]
    }
   ],
   "source": [
    "g = 'global'\n",
    "def outer(p='param'):\n",
    "        l = 'local'\n",
    "        def inner():\n",
    "            print(g, p, l)\n",
    "            \n",
    "        inner()\n",
    "outer()"
   ]
  },
  {
   "cell_type": "markdown",
   "metadata": {},
   "source": [
    "### Returning functions\n",
    "\n",
    "Functions are treated as any other object"
   ]
  },
  {
   "cell_type": "code",
   "execution_count": 32,
   "metadata": {},
   "outputs": [
    {
     "name": "stdout",
     "output_type": "stream",
     "text": [
      "local func\n"
     ]
    }
   ],
   "source": [
    "def enclosing():\n",
    "    def local_func():\n",
    "        print('local func')\n",
    "    return local_func\n",
    "        \n",
    "lf = enclosing()\n",
    "lf()"
   ]
  },
  {
   "cell_type": "markdown",
   "metadata": {},
   "source": [
    "### Closures and nested scopes\n",
    "\n",
    "Closure — maintain a reference to objects from earlier scopes"
   ]
  },
  {
   "cell_type": "code",
   "execution_count": 33,
   "metadata": {},
   "outputs": [
    {
     "name": "stdout",
     "output_type": "stream",
     "text": [
      "closed over\n"
     ]
    },
    {
     "data": {
      "text/plain": [
       "(<cell at 0x10d255b10: str object at 0x10d255170>,)"
      ]
     },
     "execution_count": 33,
     "metadata": {},
     "output_type": "execute_result"
    }
   ],
   "source": [
    "def enclosing():\n",
    "    x = 'closed over'\n",
    "    def local_func():\n",
    "        print(x)\n",
    "    return local_func\n",
    "        \n",
    "lf = enclosing()\n",
    "lf()\n",
    "lf.__closure__"
   ]
  },
  {
   "cell_type": "markdown",
   "metadata": {},
   "source": [
    "### Function factories\n",
    "\n",
    "function that returns new specialized functions"
   ]
  },
  {
   "cell_type": "code",
   "execution_count": 34,
   "metadata": {},
   "outputs": [
    {
     "name": "stdout",
     "output_type": "stream",
     "text": [
      "(<cell at 0x10d2596d0: int object at 0x1074c5b50>,)\n",
      "25\n",
      "125\n"
     ]
    }
   ],
   "source": [
    "def raise_to(exp):\n",
    "    def raise_to_exp(x):\n",
    "        return pow(x, exp)\n",
    "    return raise_to_exp\n",
    "\n",
    "square = raise_to(2)\n",
    "print(square.__closure__)\n",
    "print(square(5))\n",
    "cube = raise_to(3)\n",
    "print(cube(5))"
   ]
  },
  {
   "cell_type": "markdown",
   "metadata": {},
   "source": [
    "### Decorators\n",
    "\n",
    "Modify or enhance functions without changing their definitions\n",
    "\n",
    "Takes a callable and returns a callable"
   ]
  },
  {
   "cell_type": "code",
   "execution_count": 35,
   "metadata": {},
   "outputs": [
    {
     "name": "stdout",
     "output_type": "stream",
     "text": [
      "bjørn\n",
      "'bj\\xf8rn'\n"
     ]
    }
   ],
   "source": [
    "def animal():\n",
    "    return 'bjørn'\n",
    "\n",
    "print(animal())\n",
    "\n",
    "def animal():\n",
    "    return ascii('bjørn')\n",
    "print(animal())"
   ]
  },
  {
   "cell_type": "code",
   "execution_count": 36,
   "metadata": {},
   "outputs": [],
   "source": [
    "def escape_unicode(f):\n",
    "    def wrap(*args, **kwargs): #accepting any number of arguments\n",
    "        x = f(*args, **kwargs) #calling the f with those arguments\n",
    "        return ascii(x)\n",
    "    return wrap"
   ]
  },
  {
   "cell_type": "code",
   "execution_count": 37,
   "metadata": {},
   "outputs": [
    {
     "name": "stdout",
     "output_type": "stream",
     "text": [
      "'Troms\\xf8'\n"
     ]
    }
   ],
   "source": [
    "@escape_unicode\n",
    "def northern_city():\n",
    "    return 'Tromsø'\n",
    "\n",
    "print(northern_city())"
   ]
  },
  {
   "cell_type": "code",
   "execution_count": 38,
   "metadata": {},
   "outputs": [],
   "source": [
    "# Order of decorators = reversed\n",
    "\n",
    "def prepend_index(f):\n",
    "    def wrap(*args, **kwargs):\n",
    "        x = f(*args, **kwargs)\n",
    "        return  kwargs['index'] + x\n",
    "    return wrap\n",
    "\n",
    "def prepend_district(f):\n",
    "    def wrapping(*var, **dicts):\n",
    "        x = f(*var, **dicts)\n",
    "        return var[0] + x\n",
    "    return wrapping"
   ]
  },
  {
   "cell_type": "code",
   "execution_count": 39,
   "metadata": {},
   "outputs": [
    {
     "name": "stdout",
     "output_type": "stream",
     "text": [
      "123øLTråx'\\xd8slo'\n"
     ]
    }
   ],
   "source": [
    "@prepend_index\n",
    "@prepend_district\n",
    "@escape_unicode\n",
    "def southern_city(district, **kwargs):\n",
    "    return 'Øslo'\n",
    "\n",
    "print(southern_city('Tråx', index='123øL'))\n",
    "    "
   ]
  },
  {
   "cell_type": "markdown",
   "metadata": {},
   "source": [
    "### Extended Formal Argument Syntax"
   ]
  },
  {
   "cell_type": "code",
   "execution_count": 40,
   "metadata": {},
   "outputs": [
    {
     "name": "stdout",
     "output_type": "stream",
     "text": [
      "\n",
      "one\n",
      "one two\n",
      "one two three\n"
     ]
    }
   ],
   "source": [
    "# Почему это работает?\n",
    "print()\n",
    "print(\"one\")\n",
    "print(\"one\",\"two\")\n",
    "print(\"one\",\"two\", \"three\")"
   ]
  },
  {
   "cell_type": "code",
   "execution_count": 41,
   "metadata": {},
   "outputs": [],
   "source": [
    "# *args -> для работы с positional arguments\n",
    "# Расчитаем объем n-мерного куба\n",
    "\n",
    "def hypervolume(*args):\n",
    "    print(args)\n",
    "    print(type(args))\n",
    "    volume = 1\n",
    "    for length in args:\n",
    "        volume*=length\n",
    "    return volume"
   ]
  },
  {
   "cell_type": "code",
   "execution_count": 42,
   "metadata": {},
   "outputs": [
    {
     "name": "stdout",
     "output_type": "stream",
     "text": [
      "(10,)\n",
      "<class 'tuple'>\n",
      "10\n",
      "(10, 10)\n",
      "<class 'tuple'>\n",
      "100\n",
      "(10, 10, 10)\n",
      "<class 'tuple'>\n",
      "1000\n",
      "(2, 4, 6, 8)\n",
      "<class 'tuple'>\n",
      "384\n"
     ]
    }
   ],
   "source": [
    "print(hypervolume(10))\n",
    "print(hypervolume(10, 10))\n",
    "print(hypervolume(10, 10, 10))\n",
    "print(hypervolume(2, 4, 6, 8))"
   ]
  },
  {
   "cell_type": "code",
   "execution_count": 43,
   "metadata": {},
   "outputs": [
    {
     "name": "stdout",
     "output_type": "stream",
     "text": [
      "()\n",
      "<class 'tuple'>\n"
     ]
    },
    {
     "data": {
      "text/plain": [
       "1"
      ]
     },
     "execution_count": 43,
     "metadata": {},
     "output_type": "execute_result"
    }
   ],
   "source": [
    "hypervolume() # incorrect -> should raise an error"
   ]
  },
  {
   "cell_type": "code",
   "execution_count": 44,
   "metadata": {},
   "outputs": [],
   "source": [
    "def hypervolume(length, *lengths):\n",
    "    volume = length\n",
    "    for length in lengths:\n",
    "        volume*=length\n",
    "    return volume"
   ]
  },
  {
   "cell_type": "code",
   "execution_count": 45,
   "metadata": {},
   "outputs": [
    {
     "name": "stdout",
     "output_type": "stream",
     "text": [
      "40\n",
      "hypervolume() missing 1 required positional argument: 'length'\n"
     ]
    }
   ],
   "source": [
    "print(hypervolume(10, 4))\n",
    "try:\n",
    "    print(hypervolume()) # raises an error\n",
    "except Exception as e:\n",
    "    print(e)"
   ]
  },
  {
   "cell_type": "code",
   "execution_count": 46,
   "metadata": {},
   "outputs": [],
   "source": [
    "# extended syntax\n",
    "# def extended(*args, **kwargs):"
   ]
  },
  {
   "cell_type": "code",
   "execution_count": 47,
   "metadata": {},
   "outputs": [],
   "source": [
    "def tag(name, **kwargs):\n",
    "    print(name)\n",
    "    print(kwargs)\n",
    "    print(type(kwargs))"
   ]
  },
  {
   "cell_type": "code",
   "execution_count": 48,
   "metadata": {},
   "outputs": [
    {
     "name": "stdout",
     "output_type": "stream",
     "text": [
      "img\n",
      "{'src': 'monet.jpg', 'alt': 'Sunrise by lake', 'border': 1}\n",
      "<class 'dict'>\n"
     ]
    }
   ],
   "source": [
    "tag('img', src='monet.jpg', alt=\"Sunrise by lake\", border=1)"
   ]
  },
  {
   "cell_type": "code",
   "execution_count": 49,
   "metadata": {},
   "outputs": [],
   "source": [
    "def tag(name, **attributes):\n",
    "    result = '<' + name\n",
    "    for key, value in attributes.items():\n",
    "        result += f' {key}=\"{value}\"'\n",
    "    result += '>'\n",
    "    return result"
   ]
  },
  {
   "cell_type": "code",
   "execution_count": 50,
   "metadata": {},
   "outputs": [
    {
     "data": {
      "text/plain": [
       "'<img src=\"monet.jpg\" alt=\"Sunrise by lake\" border=\"1\">'"
      ]
     },
     "execution_count": 50,
     "metadata": {},
     "output_type": "execute_result"
    }
   ],
   "source": [
    "tag('img', src='monet.jpg', alt=\"Sunrise by lake\", border=1)"
   ]
  },
  {
   "cell_type": "code",
   "execution_count": 51,
   "metadata": {},
   "outputs": [],
   "source": [
    "# Неправильные синтаксисы"
   ]
  },
  {
   "cell_type": "code",
   "execution_count": 52,
   "metadata": {},
   "outputs": [],
   "source": [
    "# def print_args(**kwargs, *args):\n",
    "#     pass"
   ]
  },
  {
   "cell_type": "code",
   "execution_count": 53,
   "metadata": {},
   "outputs": [
    {
     "name": "stdout",
     "output_type": "stream",
     "text": [
      "1\n",
      "2\n",
      "(3, 4, 5, 6)\n"
     ]
    }
   ],
   "source": [
    "def print_args(arg1, arg2, *args):\n",
    "    print(arg1)\n",
    "    print(arg2)\n",
    "    print(args)\n",
    "\n",
    "print_args(1, 2, 3, 4, 5, 6)"
   ]
  },
  {
   "cell_type": "code",
   "execution_count": 54,
   "metadata": {},
   "outputs": [],
   "source": [
    "def print_args(arg1, arg2, *args, kwarg1, kwarg2):\n",
    "    print(arg1)\n",
    "    print(arg2)\n",
    "    print(args)\n",
    "    print(kwarg1)\n",
    "    print(kwarg2)"
   ]
  },
  {
   "cell_type": "code",
   "execution_count": 55,
   "metadata": {},
   "outputs": [
    {
     "name": "stdout",
     "output_type": "stream",
     "text": [
      "1\n",
      "2\n",
      "(3, 4, 5, 6)\n",
      "k1\n",
      "k2\n"
     ]
    }
   ],
   "source": [
    "print_args(1, 2, 3, 4, 5, 6, kwarg1='k1', kwarg2='k2')"
   ]
  },
  {
   "cell_type": "code",
   "execution_count": 57,
   "metadata": {},
   "outputs": [
    {
     "ename": "TypeError",
     "evalue": "print_args() missing 1 required keyword-only argument: 'kwarg2'",
     "output_type": "error",
     "traceback": [
      "\u001b[0;31m---------------------------------------------------------------------------\u001b[0m",
      "\u001b[0;31mTypeError\u001b[0m                                 Traceback (most recent call last)",
      "\u001b[0;32m<ipython-input-57-9073373e4621>\u001b[0m in \u001b[0;36m<module>\u001b[0;34m\u001b[0m\n\u001b[0;32m----> 1\u001b[0;31m \u001b[0mprint_args\u001b[0m\u001b[0;34m(\u001b[0m\u001b[0;36m1\u001b[0m\u001b[0;34m,\u001b[0m \u001b[0;36m2\u001b[0m\u001b[0;34m,\u001b[0m \u001b[0;36m3\u001b[0m\u001b[0;34m,\u001b[0m \u001b[0;36m4\u001b[0m\u001b[0;34m,\u001b[0m \u001b[0;36m5\u001b[0m\u001b[0;34m,\u001b[0m \u001b[0;36m6\u001b[0m\u001b[0;34m,\u001b[0m \u001b[0mkwarg1\u001b[0m\u001b[0;34m=\u001b[0m\u001b[0;34m'k1'\u001b[0m\u001b[0;34m)\u001b[0m\u001b[0;34m\u001b[0m\u001b[0;34m\u001b[0m\u001b[0m\n\u001b[0m",
      "\u001b[0;31mTypeError\u001b[0m: print_args() missing 1 required keyword-only argument: 'kwarg2'"
     ]
    }
   ],
   "source": [
    "print_args(1, 2, 3, 4, 5, 6, kwarg1='k1')   "
   ]
  },
  {
   "cell_type": "code",
   "execution_count": 58,
   "metadata": {},
   "outputs": [],
   "source": [
    "def print_args(arg1, arg2, *args, kwarg1, kwarg2, **kwargs):\n",
    "    print(arg1)\n",
    "    print(arg2)\n",
    "    print(args)\n",
    "    print(kwarg1)\n",
    "    print(kwarg2)\n",
    "    print(kwargs)"
   ]
  },
  {
   "cell_type": "code",
   "execution_count": 59,
   "metadata": {},
   "outputs": [
    {
     "name": "stdout",
     "output_type": "stream",
     "text": [
      "1\n",
      "2\n",
      "(3, 4, 5, 6)\n",
      "k1\n",
      "k2\n",
      "{}\n"
     ]
    }
   ],
   "source": [
    "print_args(1, 2, 3, 4, 5, 6, kwarg1='k1', kwarg2='k2')"
   ]
  },
  {
   "cell_type": "code",
   "execution_count": 60,
   "metadata": {},
   "outputs": [
    {
     "name": "stdout",
     "output_type": "stream",
     "text": [
      "1\n",
      "2\n",
      "(3, 4, 5, 6)\n",
      "k1\n",
      "k2\n",
      "{'kwarg3': 'k3'}\n"
     ]
    }
   ],
   "source": [
    "print_args(1, 2, 3, 4, 5, 6, kwarg1='k1', kwarg2='k2', kwarg3=\"k3\")"
   ]
  },
  {
   "cell_type": "code",
   "execution_count": 61,
   "metadata": {},
   "outputs": [
    {
     "name": "stdout",
     "output_type": "stream",
     "text": [
      "1\n",
      "2\n",
      "(3, 4)\n",
      "1\n",
      "2\n",
      "(3, 4)\n"
     ]
    }
   ],
   "source": [
    "# Extended actual argument syntax\n",
    "def print_args(arg1, arg2, *args):\n",
    "    print(arg1)\n",
    "    print(arg2)\n",
    "    print(args)\n",
    "\n",
    "print_args(1,2,3,4)\n",
    "\n",
    "t = (1, 2, 3, 4)\n",
    "print_args(*t)"
   ]
  },
  {
   "cell_type": "code",
   "execution_count": 62,
   "metadata": {},
   "outputs": [
    {
     "name": "stdout",
     "output_type": "stream",
     "text": [
      "r = 21\n",
      "g = 45\n",
      "b = 98\n",
      "{'alpha': 100}\n"
     ]
    }
   ],
   "source": [
    "def color(red, green, blue, **kwargs):\n",
    "    print(\"r =\", red)\n",
    "    print(\"g =\", green)\n",
    "    print(\"b =\", blue)\n",
    "    print(kwargs)\n",
    "    \n",
    "k = {'red':21, 'green': 45, 'blue': 98, 'alpha':100}\n",
    "color(**k)"
   ]
  },
  {
   "cell_type": "code",
   "execution_count": 63,
   "metadata": {},
   "outputs": [],
   "source": [
    "## Forwarding arguments\n",
    "def trace(f, *args, **kwargs):\n",
    "    print(\"args =\", args)\n",
    "    print(\"kwargs =\", kwargs)\n",
    "    result = f(*args, )\n",
    "    print(\"result = \", result)\n",
    "    return result"
   ]
  },
  {
   "cell_type": "code",
   "execution_count": 64,
   "metadata": {},
   "outputs": [
    {
     "data": {
      "text/plain": [
       "9"
      ]
     },
     "execution_count": 64,
     "metadata": {},
     "output_type": "execute_result"
    }
   ],
   "source": [
    "int('1001', base=2)"
   ]
  },
  {
   "cell_type": "code",
   "execution_count": 65,
   "metadata": {},
   "outputs": [
    {
     "name": "stdout",
     "output_type": "stream",
     "text": [
      "args = ('1001',)\n",
      "kwargs = {'base': 2}\n",
      "result =  1001\n"
     ]
    },
    {
     "data": {
      "text/plain": [
       "1001"
      ]
     },
     "execution_count": 65,
     "metadata": {},
     "output_type": "execute_result"
    }
   ],
   "source": [
    "trace(int, '1001', base=2)"
   ]
  },
  {
   "cell_type": "code",
   "execution_count": 66,
   "metadata": {},
   "outputs": [],
   "source": [
    "arr = [[1, 2, 3, 4],\n",
    "       [5, 6, 7, 8],\n",
    "       [9, 10, 11, 12]]"
   ]
  },
  {
   "cell_type": "code",
   "execution_count": 67,
   "metadata": {},
   "outputs": [
    {
     "name": "stdout",
     "output_type": "stream",
     "text": [
      "Help on class zip in module builtins:\n",
      "\n",
      "class zip(object)\n",
      " |  zip(iter1 [,iter2 [...]]) --> zip object\n",
      " |  \n",
      " |  Return a zip object whose .__next__() method returns a tuple where\n",
      " |  the i-th element comes from the i-th iterable argument.  The .__next__()\n",
      " |  method continues until the shortest iterable in the argument sequence\n",
      " |  is exhausted and then it raises StopIteration.\n",
      " |  \n",
      " |  Methods defined here:\n",
      " |  \n",
      " |  __getattribute__(self, name, /)\n",
      " |      Return getattr(self, name).\n",
      " |  \n",
      " |  __iter__(self, /)\n",
      " |      Implement iter(self).\n",
      " |  \n",
      " |  __next__(self, /)\n",
      " |      Implement next(self).\n",
      " |  \n",
      " |  __reduce__(...)\n",
      " |      Return state information for pickling.\n",
      " |  \n",
      " |  ----------------------------------------------------------------------\n",
      " |  Static methods defined here:\n",
      " |  \n",
      " |  __new__(*args, **kwargs) from builtins.type\n",
      " |      Create and return a new object.  See help(type) for accurate signature.\n",
      "\n"
     ]
    }
   ],
   "source": [
    "help(zip)"
   ]
  },
  {
   "cell_type": "code",
   "execution_count": 68,
   "metadata": {},
   "outputs": [
    {
     "name": "stdout",
     "output_type": "stream",
     "text": [
      "(1, 5, 9)\n",
      "(2, 6, 10)\n",
      "(3, 7, 11)\n",
      "(4, 8, 12)\n"
     ]
    }
   ],
   "source": [
    "for item in zip(arr[0], arr[1], arr[2]):\n",
    "    print(item)"
   ]
  },
  {
   "cell_type": "code",
   "execution_count": 69,
   "metadata": {},
   "outputs": [],
   "source": [
    "transposed = list(zip(*arr))"
   ]
  },
  {
   "cell_type": "code",
   "execution_count": 70,
   "metadata": {},
   "outputs": [
    {
     "name": "stdout",
     "output_type": "stream",
     "text": [
      "[(1, 5, 9), (2, 6, 10), (3, 7, 11), (4, 8, 12)]\n"
     ]
    }
   ],
   "source": [
    "print(transposed)"
   ]
  },
  {
   "cell_type": "code",
   "execution_count": null,
   "metadata": {},
   "outputs": [],
   "source": []
  },
  {
   "cell_type": "code",
   "execution_count": null,
   "metadata": {},
   "outputs": [],
   "source": []
  }
 ],
 "metadata": {
  "kernelspec": {
   "display_name": "Django Shell-Plus",
   "language": "python",
   "name": "django_extensions"
  },
  "language_info": {
   "codemirror_mode": {
    "name": "ipython",
    "version": 3
   },
   "file_extension": ".py",
   "mimetype": "text/x-python",
   "name": "python",
   "nbconvert_exporter": "python",
   "pygments_lexer": "ipython3",
   "version": "3.7.4"
  }
 },
 "nbformat": 4,
 "nbformat_minor": 4
}
